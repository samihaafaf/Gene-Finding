{
 "cells": [
  {
   "cell_type": "code",
   "execution_count": 1,
   "id": "8521de0a",
   "metadata": {},
   "outputs": [],
   "source": [
    "from Bio import SeqIO"
   ]
  },
  {
   "cell_type": "markdown",
   "id": "031fa857",
   "metadata": {},
   "source": [
    "**READING SEQUENCES FROM FILE**"
   ]
  },
  {
   "cell_type": "code",
   "execution_count": 2,
   "id": "977e86c6",
   "metadata": {},
   "outputs": [],
   "source": [
    "sequences = []\n",
    "for each in SeqIO.parse(\"sequence.fasta\",\"fasta\"):\n",
    "    sequences.append(str(each.seq))\n",
    "    \n",
    "    "
   ]
  },
  {
   "cell_type": "code",
   "execution_count": 32,
   "id": "7ea727d1",
   "metadata": {},
   "outputs": [],
   "source": [
    "#sequences[0]"
   ]
  },
  {
   "cell_type": "markdown",
   "id": "3f29089d",
   "metadata": {},
   "source": [
    "**FINDING GENE CONSIDERING THE SEQUENCE HAS A SINGLE PROMOTER SUBSEQUENCE**"
   ]
  },
  {
   "cell_type": "code",
   "execution_count": 30,
   "id": "fccc6371",
   "metadata": {},
   "outputs": [
    {
     "name": "stdout",
     "output_type": "stream",
     "text": [
      "Please input promoter sequenceCTTT\n",
      "For nucleotide no. 0\n",
      "gene found\n",
      "For nucleotide no. 1\n",
      "gene not found\n",
      "For nucleotide no. 2\n",
      "gene not found\n"
     ]
    }
   ],
   "source": [
    "def find_gene(sequ,promoter):\n",
    "    #find promoter in sequence\n",
    "    \n",
    "    ind = sequ.find(promoter)\n",
    "    if ind == -1:\n",
    "        print('gene not found')\n",
    "    else:\n",
    "        #find start codon within 30 bp, if not found print no gene.\n",
    "        start_codon_seq = sequ[ind+len(promoter):(ind+len(promoter)+31)]\n",
    "        a = start_codon_seq.find('ATG')\n",
    "        if a == -1:\n",
    "            print('gene not found')\n",
    "\n",
    "        else:\n",
    "        #If start codon found, look for atleast 50 bp for stop codon.\n",
    "            stop_codon_seq = sequ[a+3: a+3+51]\n",
    "            rest = sequ[a+54:]\n",
    "\n",
    "            if (('TAA' in stop_codon_seq) or ('TAG' in stop_codon_seq) or ('TGA' in start_codon_seq)):\n",
    "                print('gene not found')\n",
    "\n",
    "                #sequ = sequ[]\n",
    "            else:\n",
    "\n",
    "                if (('TAA' in rest) or ('TAG' in rest) or ('TGA' in rest)):\n",
    "                    print('gene found')\n",
    "                    \n",
    "#DRIVER\n",
    "promoter = input('Please input promoter sequence')\n",
    "for each in range(len(sequences)):\n",
    "    print('For nucleotide no.',each)\n",
    "    find_gene(sequences[each], promoter)\n",
    "\n",
    "    "
   ]
  },
  {
   "cell_type": "markdown",
   "id": "4a7542d3",
   "metadata": {},
   "source": [
    "**FINDING GENE CONSIDERING THE SEQUENCE MIGHT HAVE MORE THAN ONE PROMOTER SUBSEQUENCE - USING RECURSION**"
   ]
  },
  {
   "cell_type": "code",
   "execution_count": 8,
   "id": "02f2968b",
   "metadata": {},
   "outputs": [
    {
     "name": "stdout",
     "output_type": "stream",
     "text": [
      "Please input promoter sequence in all capsCTTT\n",
      "For nucleotide no. 0\n",
      "gene found\n",
      "For nucleotide no. 1\n",
      "gene found\n",
      "For nucleotide no. 2\n",
      "gene not found\n"
     ]
    }
   ],
   "source": [
    "#sequ = 'AGAGGTGCTTTGAAGATGCCGGAGGCCCCGCCTCTGCTGTTGGCAGCTGTGTTGCTGGGCCTGGTGCTGCTGGTGGTGCTGCTGCTGCTTCTGAGGCACTGGGGCTGGGGCCTGTGCCTTATCGGCTGGAACGAGTTCATCCTGCAGCCCATCCACAACCTGCTCATGGGTGACACCAAGGAGCAGCGCATCCTGAACCATGTGCTGCAGCATGCGGAGCCCGGGAACGCACAGAGCGTGCTGGAGGCCATTGACACCTACTGCGAGCAGAAGGAGTGGGCCATGAACGTGGGCGACAAGAAAGGCAAGATCGTGGACGCCGTGATTCAGGAGCACCAGCCCTCCGTGCTGCTGGAGCTGGGGGCCTACTGTGGCTACTCAGCTGTGCGCATGGCCCGCCTGCTGTCACCAGGGGCGAGGCTCATCACCATCGAGATCAACCCCGACTGTGCCGCCATCACCCAGCGGATGGTGGATTTCGCTGGCATGAAGGACAAGGTCACCCTTGTGGTTGGAGCGTCCCAGGACATCATCCCCCAGCTGAAGAAGAAGTATGATGTGGACACACTGGACATGGTCTTCCTCGACCACTGGAAGGACCGGTACCTGCCGGACACGCTTCTCTTGGAGGAATGTGGCCTGCTGCGGAAGGGGACAGTGCTACTGGCTGACAACGTGATCTGCCCAGGTGCGCCAGACTTCCTAGCACACGTGCGCGGGAGCAGCTGCTTTGAGTGCACACACTACCAATCGTTCCTGGAATACAGGGAGGTGGTGGACGGCCTGGAGAAGGCCATCTACAAGGGCCCAGGCAGCGAAGCAGGGCCCTGACTGCCCCCCCGGCCCCCCTCTCGGGCTCTCTCACCCAGCCTG'\n",
    "#This code gives higher chances of finding gene as it handles cases for when multiple promoter subsequences\n",
    "#are present and subsequently checks gene for each case.\n",
    "\n",
    "\n",
    "def find_gene(sequ,promoter):\n",
    "    \n",
    "    if sequ =='':\n",
    "        return 'gene not found'\n",
    "    \n",
    "    #find promoter in sequence\n",
    "    \n",
    "    ind = sequ.find(promoter)\n",
    "    \n",
    "    \n",
    "    \n",
    "    if ind == -1:\n",
    "        return 'gene not found'\n",
    "    else:\n",
    "        #find start codon within 30 bp, if not found print no gene.\n",
    "        start_codon_seq = sequ[ind+len(promoter):(ind+len(promoter)+31)]\n",
    "        a = start_codon_seq.find('ATG')\n",
    "        if a == -1:  #that is start codon not found within 30 bp of promoter\n",
    "            return find_gene(sequ[len(promoter):],promoter)\n",
    "\n",
    "        else:\n",
    "\n",
    "            #If start codon found, look for atleast 50 bp for stop codon.\n",
    "            stop_codon_seq = sequ[a+3: a+3+51]\n",
    "            rest = sequ[a+54:]\n",
    "\n",
    "            if (('TAA' in stop_codon_seq) or ('TAG' in stop_codon_seq) or ('TGA' in start_codon_seq)):\n",
    "\n",
    "                return find_gene(sequ[a+3+51:], promoter)\n",
    "                #print('gene not found')\n",
    "\n",
    "                #sequ = sequ[]\n",
    "            else:\n",
    "\n",
    "                if (('TAA' in rest) or ('TAG' in rest) or ('TGA' in rest)):\n",
    "                    return 'gene found'\n",
    "\n",
    "                    \n",
    "#DRIVER\n",
    "\n",
    "global promoter\n",
    "promoter = input('Please input promoter sequence in all caps')\n",
    "for each in range(len(sequences)):\n",
    "    print('For nucleotide no.',each)\n",
    "    print(find_gene(sequences[each],promoter))"
   ]
  },
  {
   "cell_type": "code",
   "execution_count": null,
   "id": "0ed36410",
   "metadata": {},
   "outputs": [],
   "source": []
  }
 ],
 "metadata": {
  "kernelspec": {
   "display_name": "Python 3 (ipykernel)",
   "language": "python",
   "name": "python3"
  },
  "language_info": {
   "codemirror_mode": {
    "name": "ipython",
    "version": 3
   },
   "file_extension": ".py",
   "mimetype": "text/x-python",
   "name": "python",
   "nbconvert_exporter": "python",
   "pygments_lexer": "ipython3",
   "version": "3.9.13"
  }
 },
 "nbformat": 4,
 "nbformat_minor": 5
}
